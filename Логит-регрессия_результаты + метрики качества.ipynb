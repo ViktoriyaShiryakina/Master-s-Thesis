{
 "cells": [
  {
   "cell_type": "code",
   "execution_count": 1,
   "metadata": {},
   "outputs": [
    {
     "name": "stdout",
     "output_type": "stream",
     "text": [
      "Optimization terminated successfully.\n",
      "         Current function value: 0.354568\n",
      "         Iterations 7\n",
      "                          MNLogit Regression Results                          \n",
      "==============================================================================\n",
      "Dep. Variable:                 target   No. Observations:                  708\n",
      "Model:                        MNLogit   Df Residuals:                      697\n",
      "Method:                           MLE   Df Model:                           10\n",
      "Date:                Sat, 08 May 2021   Pseudo R-squ.:                  0.4299\n",
      "Time:                        11:35:37   Log-Likelihood:                -251.03\n",
      "converged:                       True   LL-Null:                       -440.32\n",
      "Covariance Type:            nonrobust   LLR p-value:                 3.407e-75\n",
      "==============================================================================\n",
      "  target=1       coef    std err          z      P>|z|      [0.025      0.975]\n",
      "------------------------------------------------------------------------------\n",
      "const          1.8166      0.289      6.277      0.000       1.249       2.384\n",
      "GPM           -0.3555      0.051     -6.958      0.000      -0.456      -0.255\n",
      "EBIT_IntEx    -0.1268      0.055     -2.285      0.022      -0.236      -0.018\n",
      "ROE           -0.1704      0.047     -3.633      0.000      -0.262      -0.078\n",
      "Eq_TL         -0.1862      0.057     -3.258      0.001      -0.298      -0.074\n",
      "ShtDebt_Eq     0.0934      0.046      2.014      0.044       0.002       0.184\n",
      "D_EBIT         0.1876      0.051      3.711      0.000       0.089       0.287\n",
      "Unempl_rat    -0.2133      0.062     -3.445      0.001      -0.335      -0.092\n",
      "Corp_group    -0.0470      0.024     -1.950      0.051      -0.094       0.000\n",
      "Is_Europe     -0.1252      0.026     -4.738      0.000      -0.177      -0.073\n",
      "Is_SME         0.2395      0.030      8.055      0.000       0.181       0.298\n",
      "==============================================================================\n"
     ]
    }
   ],
   "source": [
    "import pandas as pd\n",
    "import sklearn\n",
    "from sklearn.model_selection import train_test_split\n",
    "from sklearn.linear_model import LogisticRegression\n",
    "import statsmodels.api as sm\n",
    "\n",
    "ini_data = pd.ExcelFile('FinRatios_NormData_FIN.xlsx')\n",
    "data = ini_data.parse('post1_исправ качеств')\n",
    "X = data.drop(['target'], axis=1)\n",
    "y = data['target']\n",
    "X_train, X_test, y_train, y_test = sklearn.model_selection.train_test_split(X, y, test_size = 0.20, random_state = 5)\n",
    "model1 = LogisticRegression(random_state=0, multi_class='multinomial', penalty='none', solver='newton-cg').fit(X_train, y_train)\n",
    "preds = model1.predict(X_test)\n",
    "#print the tunable parameters (They were not tuned in this example, everything kept as default)\n",
    "params = model1.get_params()\n",
    "logit_model=sm.MNLogit(y_train,sm.add_constant(X_train))\n",
    "logit_model\n",
    "result=logit_model.fit()\n",
    "stats=result.summary()\n",
    "print(stats)"
   ]
  },
  {
   "cell_type": "code",
   "execution_count": 2,
   "metadata": {},
   "outputs": [
    {
     "name": "stdout",
     "output_type": "stream",
     "text": [
      "Accuracy: 0.84\n",
      "Error rate: 0.16\n"
     ]
    }
   ],
   "source": [
    "from sklearn.metrics import accuracy_score\n",
    "print('Accuracy: {:.2f}'.format(accuracy_score(y_test, preds)))\n",
    "print('Error rate: {:.2f}'.format(1 - accuracy_score(y_test, preds)))"
   ]
  },
  {
   "cell_type": "code",
   "execution_count": 3,
   "metadata": {},
   "outputs": [
    {
     "data": {
      "text/plain": [
       "array([0.78873239, 0.8028169 , 0.88028169, 0.82269504, 0.85815603])"
      ]
     },
     "execution_count": 3,
     "metadata": {},
     "output_type": "execute_result"
    }
   ],
   "source": [
    "# кросс-валидация\n",
    "from sklearn.model_selection import cross_val_score\n",
    "#clf = LogisticRegression(solver='newton-cg', multi_class='multinomial')\n",
    "scores = cross_val_score(model1, X_train, y_train, cv=5)\n",
    "scores"
   ]
  },
  {
   "cell_type": "code",
   "execution_count": 4,
   "metadata": {},
   "outputs": [
    {
     "name": "stdout",
     "output_type": "stream",
     "text": [
      "[[104  15]\n",
      " [ 14  44]]\n"
     ]
    }
   ],
   "source": [
    "# матрица ошибок\n",
    "from sklearn.metrics import confusion_matrix\n",
    "confusion_matrix = confusion_matrix(y_test, preds)\n",
    "print(confusion_matrix)"
   ]
  },
  {
   "cell_type": "code",
   "execution_count": 5,
   "metadata": {},
   "outputs": [
    {
     "data": {
      "image/png": "[encoded data removed]",
      "text/plain": [
       "<Figure size 432x288 with 1 Axes>"
      ]
     },
     "metadata": {
      "needs_background": "light"
     },
     "output_type": "display_data"
    }
   ],
   "source": [
    "from sklearn.metrics import roc_auc_score\n",
    "from sklearn.metrics import roc_curve\n",
    "import matplotlib.pyplot as plt\n",
    "logit_roc_auc = roc_auc_score(y_test, model1.predict(X_test))\n",
    "fpr, tpr, thresholds = roc_curve(y_test, model1.predict_proba(X_test)[:,1])\n",
    "plt.figure()\n",
    "plt.plot(fpr, tpr, label='Logistic Regression (area = %0.2f)' % logit_roc_auc)\n",
    "plt.plot([0, 1], [0, 1],'r--')\n",
    "plt.xlim([0.0, 1.0])\n",
    "plt.ylim([0.0, 1.05])\n",
    "plt.xlabel('False Positive Rate')\n",
    "plt.ylabel('True Positive Rate')\n",
    "plt.title('Receiver operating characteristic')\n",
    "plt.legend(loc=\"lower right\")\n",
    "#plt.savefig('Log_ROC')\n",
    "plt.show()"
   ]
  },
  {
   "cell_type": "code",
   "execution_count": 8,
   "metadata": {},
   "outputs": [
    {
     "name": "stdout",
     "output_type": "stream",
     "text": [
      "              precision    recall  f1-score   support\n",
      "\n",
      "           0       0.88      0.87      0.88       119\n",
      "           1       0.75      0.76      0.75        58\n",
      "\n",
      "    accuracy                           0.84       177\n",
      "   macro avg       0.81      0.82      0.81       177\n",
      "weighted avg       0.84      0.84      0.84       177\n",
      "\n"
     ]
    }
   ],
   "source": [
    "from sklearn import metrics\n",
    "print (metrics.classification_report(y_test, preds))"
   ]
  },
  {
   "cell_type": "code",
   "execution_count": null,
   "metadata": {},
   "outputs": [],
   "source": []
  }
 ],
 "metadata": {
  "kernelspec": {
   "display_name": "Python 3",
   "language": "python",
   "name": "python3"
  },
  "language_info": {
   "codemirror_mode": {
    "name": "ipython",
    "version": 3
   },
   "file_extension": ".py",
   "mimetype": "text/x-python",
   "name": "python",
   "nbconvert_exporter": "python",
   "pygments_lexer": "ipython3",
   "version": "3.8.5"
  }
 },
 "nbformat": 4,
 "nbformat_minor": 4
}
