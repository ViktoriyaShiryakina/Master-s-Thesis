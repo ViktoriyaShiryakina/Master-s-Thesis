{
 "cells": [
  {
   "cell_type": "code",
   "execution_count": 1,
   "metadata": {},
   "outputs": [],
   "source": [
    "import pandas as pd\n",
    "import matplotlib.pyplot as plt\n",
    "from sklearn.cluster import KMeans\n",
    "ini_data = pd.ExcelFile('Last try.xlsx')\n",
    "from sklearn.cluster import MeanShift, estimate_bandwidth"
   ]
  },
  {
   "cell_type": "code",
   "execution_count": 3,
   "metadata": {},
   "outputs": [
    {
     "data": {
      "text/plain": [
       "array([[4.64731898],\n",
       "       [6.2002298 ],\n",
       "       [4.3722772 ],\n",
       "       [5.16462651],\n",
       "       [3.47273191],\n",
       "       [2.65915793],\n",
       "       [2.04867734],\n",
       "       [6.90980322],\n",
       "       [1.54702568],\n",
       "       [1.04438859]])"
      ]
     },
     "execution_count": 3,
     "metadata": {},
     "output_type": "execute_result"
    }
   ],
   "source": [
    "df = ini_data.parse('2015')\n",
    "bandwidth = estimate_bandwidth(df, quantile=0.1)\n",
    "ms = MeanShift(bandwidth=bandwidth, bin_seeding=True)\n",
    "ms.fit(df)\n",
    "cluster_centers = ms.cluster_centers_\n",
    "cluster_centers"
   ]
  },
  {
   "cell_type": "code",
   "execution_count": 4,
   "metadata": {},
   "outputs": [
    {
     "data": {
      "text/plain": [
       "array([[4.68301887],\n",
       "       [5.08331857],\n",
       "       [3.80183235],\n",
       "       [6.17466524],\n",
       "       [5.85297113],\n",
       "       [6.58510989],\n",
       "       [2.17710987],\n",
       "       [3.20901901],\n",
       "       [2.91742714],\n",
       "       [0.87643192],\n",
       "       [0.        ]])"
      ]
     },
     "execution_count": 4,
     "metadata": {},
     "output_type": "execute_result"
    }
   ],
   "source": [
    "df = ini_data.parse('2016')\n",
    "bandwidth = estimate_bandwidth(df, quantile=0.1)\n",
    "ms = MeanShift(bandwidth=bandwidth, bin_seeding=True)\n",
    "ms.fit(df)\n",
    "cluster_centers = ms.cluster_centers_\n",
    "cluster_centers"
   ]
  },
  {
   "cell_type": "code",
   "execution_count": 5,
   "metadata": {},
   "outputs": [
    {
     "data": {
      "text/plain": [
       "array([[5.72793614],\n",
       "       [6.36076058],\n",
       "       [4.82161451],\n",
       "       [0.        ],\n",
       "       [3.66636205],\n",
       "       [4.31759388],\n",
       "       [3.31922366],\n",
       "       [6.92797269],\n",
       "       [2.46087519],\n",
       "       [1.7589441 ]])"
      ]
     },
     "execution_count": 5,
     "metadata": {},
     "output_type": "execute_result"
    }
   ],
   "source": [
    "df = ini_data.parse('2017')\n",
    "bandwidth = estimate_bandwidth(df, quantile=0.1)\n",
    "ms = MeanShift(bandwidth=bandwidth, bin_seeding=True)\n",
    "ms.fit(df)\n",
    "cluster_centers = ms.cluster_centers_\n",
    "cluster_centers"
   ]
  },
  {
   "cell_type": "code",
   "execution_count": 6,
   "metadata": {},
   "outputs": [
    {
     "data": {
      "text/plain": [
       "array([[0.        ],\n",
       "       [5.55652968],\n",
       "       [3.95383217],\n",
       "       [5.06216953],\n",
       "       [4.60991168],\n",
       "       [4.27435364],\n",
       "       [3.40586745],\n",
       "       [6.39148177],\n",
       "       [6.66250637],\n",
       "       [3.03358912],\n",
       "       [7.06807735],\n",
       "       [1.94473411],\n",
       "       [2.25862661],\n",
       "       [7.65890605]])"
      ]
     },
     "execution_count": 6,
     "metadata": {},
     "output_type": "execute_result"
    }
   ],
   "source": [
    "df = ini_data.parse('2018')\n",
    "bandwidth = estimate_bandwidth(df, quantile=0.1)\n",
    "ms = MeanShift(bandwidth=bandwidth, bin_seeding=True)\n",
    "ms.fit(df)\n",
    "cluster_centers = ms.cluster_centers_\n",
    "cluster_centers"
   ]
  },
  {
   "cell_type": "code",
   "execution_count": 7,
   "metadata": {},
   "outputs": [
    {
     "data": {
      "text/plain": [
       "array([[0.        ],\n",
       "       [6.44131458],\n",
       "       [4.88796131],\n",
       "       [6.07826414],\n",
       "       [5.59503576],\n",
       "       [4.07550001],\n",
       "       [4.57979258],\n",
       "       [3.46679111],\n",
       "       [2.98672497],\n",
       "       [2.06531862],\n",
       "       [1.72701632],\n",
       "       [7.57514548],\n",
       "       [8.09464581]])"
      ]
     },
     "execution_count": 7,
     "metadata": {},
     "output_type": "execute_result"
    }
   ],
   "source": [
    "df = ini_data.parse('2019')\n",
    "bandwidth = estimate_bandwidth(df, quantile=0.1)\n",
    "ms = MeanShift(bandwidth=bandwidth, bin_seeding=True)\n",
    "ms.fit(df)\n",
    "cluster_centers = ms.cluster_centers_\n",
    "cluster_centers"
   ]
  }
 ],
 "metadata": {
  "kernelspec": {
   "display_name": "Python 3",
   "language": "python",
   "name": "python3"
  },
  "language_info": {
   "codemirror_mode": {
    "name": "ipython",
    "version": 3
   },
   "file_extension": ".py",
   "mimetype": "text/x-python",
   "name": "python",
   "nbconvert_exporter": "python",
   "pygments_lexer": "ipython3",
   "version": "3.8.5"
  }
 },
 "nbformat": 4,
 "nbformat_minor": 4
}
